{
 "cells": [
  {
   "cell_type": "markdown",
   "id": "1ba186be-a7d9-4187-93f4-de6cedb0471f",
   "metadata": {},
   "source": [
    "### Lab 07"
   ]
  },
  {
   "cell_type": "code",
   "execution_count": null,
   "id": "5a4c2994-bc46-4b5a-843e-5ab6c497dbba",
   "metadata": {},
   "outputs": [],
   "source": []
  }
 ],
 "metadata": {
  "kernelspec": {
   "display_name": "Python 3 (ipykernel)",
   "language": "python",
   "name": "python3"
  },
  "language_info": {
   "codemirror_mode": {
    "name": "ipython",
    "version": 3
   },
   "file_extension": ".py",
   "mimetype": "text/x-python",
   "name": "python",
   "nbconvert_exporter": "python",
   "pygments_lexer": "ipython3",
   "version": "3.12.3"
  }
 },
 "nbformat": 4,
 "nbformat_minor": 5
}
